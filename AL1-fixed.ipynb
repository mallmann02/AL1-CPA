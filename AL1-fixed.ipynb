{
 "cells": [
  {
   "cell_type": "markdown",
   "metadata": {},
   "source": [
    "# Atividade de Laboratório 1\n",
    "### Integrantes\n",
    "- Leonardo Mallmann\n",
    "- Caetano Muller\n",
    "- Euzébio Hensel\n",
    "\n",
    "## QUESTÃO 1"
   ]
  },
  {
   "cell_type": "code",
   "execution_count": null,
   "metadata": {},
   "outputs": [
    {
     "ename": "",
     "evalue": "",
     "output_type": "error",
     "traceback": [
      "\u001b[1;31mFailed to start the Kernel. \n",
      "Kernel base (Python 3.9.7) is not usable. Check the Jupyter output tab for more information. \n",
      "View Jupyter <a href='command:jupyter.viewOutput'>log</a> for further details."
     ]
    }
   ],
   "source": [
    "import urllib.request\n",
    "from bs4 import BeautifulSoup\n",
    "from datetime import datetime\n",
    "from urllib.error import URLError, HTTPError, ContentTooShortError\n",
    "import re\n",
    "import csv\n",
    "import json"
   ]
  },
  {
   "cell_type": "code",
   "execution_count": null,
   "metadata": {},
   "outputs": [],
   "source": [
    "def download(url, user_agent='wswp', charset='utf-8'):\n",
    "  print('Downloading:', url)\n",
    "  request = urllib.request.Request(url)\n",
    "  request.add_header('User-agent', user_agent)\n",
    "  try:\n",
    "    resp = urllib.request.urlopen(request)\n",
    "    cs = resp.headers.get_content_charset()\n",
    "    if not cs:\n",
    "        cs = charset\n",
    "    html = resp.read().decode(cs)\n",
    "  except (URLError, HTTPError, ContentTooShortError) as e:\n",
    "    print('Download error:', e.reason)\n",
    "  return html"
   ]
  },
  {
   "cell_type": "code",
   "execution_count": null,
   "metadata": {},
   "outputs": [],
   "source": [
    "def scrap(html_content):\n",
    "  soup = BeautifulSoup(html_content, 'html5lib')\n",
    "  rows = soup.select('table tbody tr')\n",
    "  tiempo = datetime.now()\n",
    "  field_names = []\n",
    "  field_values = []\n",
    "  for row in rows:\n",
    "    c = row.select('.w2p_fl label');\n",
    "    field_names.append(c[0].string.strip().replace(':', ''));\n",
    "    v = row.select('.w2p_fw');\n",
    "    if not v[0].string:\n",
    "      if len(re.findall('<img', str(v[0]))) != 0:\n",
    "        img_src = v[0].select('img')[0];\n",
    "        field_values.append(img_src['src'])\n",
    "        continue\n",
    "      if len(re.findall('<div', str(v[0]))) != 0:\n",
    "        a_links = v[0].select('div a');\n",
    "        neighbours = [a_tag.string.strip() for a_tag in a_links]\n",
    "        field_values.append(neighbours);\n",
    "        continue\n",
    "      field_values.append('None')\n",
    "      continue\n",
    "    if v[0].string == ' ':\n",
    "      field_values.append('None')\n",
    "      continue\n",
    "    field_values.append(v[0].string)\n",
    "  field_names.append('Date/Time')\n",
    "  field_values.append(tiempo)\n",
    "  \n",
    "  return field_values, field_names\n",
    "    "
   ]
  },
  {
   "cell_type": "markdown",
   "metadata": {},
   "source": [
    "### Exemplo de inserção no CSV"
   ]
  },
  {
   "cell_type": "code",
   "execution_count": null,
   "metadata": {},
   "outputs": [],
   "source": [
    "def insert_headers(fieldnames):\n",
    "  with open('places.csv', 'w', newline='\\n') as places_csv:\n",
    "    writer = csv.DictWriter(places_csv, fieldnames=fieldnames)\n",
    "    writer.writeheader()\n",
    "\n",
    "def insert_data(data_row, fieldnames):\n",
    "  with open('places.csv', 'a', newline='\\n') as places_csv:\n",
    "    writer = csv.DictWriter(places_csv, fieldnames=fieldnames)\n",
    "    \n",
    "    writer.writerow({\n",
    "      f_name: f_value\n",
    "      for f_name, f_value in zip(fieldnames,data_row)\n",
    "    }) # or dict(zip(keys, values))"
   ]
  },
  {
   "cell_type": "code",
   "execution_count": null,
   "metadata": {},
   "outputs": [],
   "source": [
    "with open('places.csv', 'r', newline='') as csvfile:\n",
    "  reader = csv.DictReader(csvfile)\n",
    "  for row in reader:\n",
    "    row['Capital'].replace(row['Capital'], 'Lego')\n",
    "    print(row['Capital'])"
   ]
  },
  {
   "cell_type": "code",
   "execution_count": null,
   "metadata": {},
   "outputs": [],
   "source": [
    "def crawl_sitemap(url):\n",
    "  sitemap = download(url)\n",
    "  links = re.findall('\\d(\\/.*)<\\/loc>', sitemap)\n",
    "  for index, link in enumerate(links):\n",
    "    html = download(f'http://localhost:8000{link}')\n",
    "    f_values, f_names = scrap(html)\n",
    "    if index==0:\n",
    "      insert_headers(f_names)\n",
    "    insert_data(f_values, f_names)\n",
    "    if index==4:\n",
    "      break"
   ]
  },
  {
   "cell_type": "code",
   "execution_count": null,
   "metadata": {},
   "outputs": [],
   "source": [
    "crawl_sitemap('http://localhost:8000/places/static/sitemap.xml');"
   ]
  },
  {
   "cell_type": "code",
   "execution_count": null,
   "metadata": {},
   "outputs": [],
   "source": [
    "def page_monitor(url, csv_path):\n",
    "    sitemap = download(url)\n",
    "    lcsv = list(csv.reader(open(csv_path)))\n",
    "    links = re.findall('\\d(\\/.*)<\\/loc>', sitemap)\n",
    "    page_number = 1;\n",
    "    for index, link in enumerate(links):\n",
    "        html = download(f'http://localhost:8000{link}')\n",
    "        f_values, f_names = scrap(html)\n",
    "        for j, value in enumerate(f_values):\n",
    "            if j!=len(f_values)-1:\n",
    "                if lcsv[page_number][j] != f_values[j]:\n",
    "                    if isinstance(f_values[j], list):\n",
    "                      if lcsv[page_number][j] != str(f_values[j]):\n",
    "                        lcsv[page_number][j] = f_values[j]\n",
    "                        lcsv[page_number][len(f_values)-1] = datetime.now()\n",
    "                        continue\n",
    "                      continue\n",
    "                    lcsv[page_number][j] = f_values[j]\n",
    "                    lcsv[page_number][len(f_values)-1] = datetime.now()\n",
    "        if index==2:\n",
    "            break\n",
    "        page_number+=1\n",
    "    writer = csv.writer(open(csv_path, 'w'))\n",
    "    writer.writerows(lcsv)\n",
    "        \n",
    "    \n",
    "page_monitor('http://localhost:8000/places/static/sitemap.xml', 'places.csv')"
   ]
  },
  {
   "cell_type": "markdown",
   "metadata": {},
   "source": [
    "## QUESTÃO 2\n"
   ]
  },
  {
   "cell_type": "code",
   "execution_count": null,
   "metadata": {},
   "outputs": [
    {
     "ename": "",
     "evalue": "",
     "output_type": "error",
     "traceback": [
      "\u001b[1;31mJupyter cannot be started. Error attempting to locate jupyter: Running cells with 'Python 3.8.10 64-bit' requires jupyter and notebook package.\n",
      "Run the following command to install 'jupyter and notebook' into the Python environment. \n",
      "Command: 'conda install -n base jupyter notebook'"
     ]
    }
   ],
   "source": [
    "def cJSON(dl):\n",
    "  with open('top_250_movies.json', 'a') as f:\n",
    "    for dic in dl:\n",
    "      json.dump(dic, f)\n",
    "  \n",
    "\n",
    "\n",
    "def imdb_scrap(html_content):\n",
    "  soup = BeautifulSoup(html_content, 'html5lib')\n",
    "  rows = soup.select('table tbody tr')\n",
    "  dl = []\n",
    "\n",
    "  for row in rows:\n",
    "    #getting the posters class\n",
    "    poster_a = row.select('.posterColumn a')\n",
    "    #selecting image class\n",
    "    img=poster_a[0].select('img')\n",
    "    #getting both the redirection url and img source\n",
    "    poster_url = poster_a[0]['href']\n",
    "    poster_image = img[0]['src']\n",
    "    #class of the title year and such...\n",
    "    title_class = row.select('.titleColumn a')\n",
    "    movie_title = title_class[0].string\n",
    "    year_class = row.select('.titleColumn span')\n",
    "    movie_year = year_class[0].string.replace('(', '').replace(')', '')\n",
    "    rating_class = row.select('.ratingColumn.imdbRating strong')\n",
    "    movie_rating = rating_class[0].string\n",
    "    #specific_page_path = row.select('.titleColumn a')[0]['href']\n",
    "    specific_page_url = f'https://www.imdb.com{poster_url}'\n",
    "    specific_page_html = download(specific_page_url)\n",
    "    selector = BeautifulSoup(specific_page_html, 'html5lib')\n",
    "    movie_directors_tag = selector.select('.sc-fa02f843-0.fjLeDR > ul > li:first-child a')\n",
    "    movie_directors_arr = [director.string for director in movie_directors_tag]\n",
    "    genders_tag = selector.select('.ipc-chip-list.sc-16ede01-4.bMBIRz span')\n",
    "    genders_arr = [gender.string for gender in genders_tag]\n",
    "    popularity = selector.select('.sc-edc76a2-1.gopMqI')[0].string\n",
    "    field_values = [movie_title, movie_year, poster_url, poster_img, movie_rating, popularity,\n",
    "       movie_directors_arr, genders_arr]\n",
    "    field_names = ['title', 'year', 'poster_url',\n",
    "    'poster_img', 'imdb_rating', 'popularity', 'directors', 'genders']\n",
    "    d = dict(zip(field_names, field_values))\n",
    "    dl.append(d)\n",
    "  return cJSON(dl)\n",
    "\n",
    "  "
   ]
  }
 ],
 "metadata": {
  "interpreter": {
   "hash": "916dbcbb3f70747c44a77c7bcd40155683ae19c65e1c03b4aa3499c5328201f1"
  },
  "kernelspec": {
   "display_name": "Python 3.8.10 64-bit",
   "language": "python",
   "name": "python3"
  },
  "language_info": {
   "codemirror_mode": {
    "name": "ipython",
    "version": 3
   },
   "file_extension": ".py",
   "mimetype": "text/x-python",
   "name": "python",
   "nbconvert_exporter": "python",
   "pygments_lexer": "ipython3",
   "version": "3.9.7"
  },
  "orig_nbformat": 4
 },
 "nbformat": 4,
 "nbformat_minor": 2
}
