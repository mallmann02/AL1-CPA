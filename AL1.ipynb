{
 "cells": [
  {
   "cell_type": "markdown",
   "metadata": {},
   "source": [
    "# Atividade de Laboratório 1\n",
    "### Integrantes\n",
    "- Leonardo Mallmann\n",
    "- Caetano Muller\n",
    "- Euzébio Hensel"
   ]
  },
  {
   "cell_type": "code",
   "execution_count": null,
   "metadata": {},
   "outputs": [],
   "source": [
    "import urllib.request\n",
    "from bs4 import BeautifulSoup\n",
    "from datetime import datetime\n",
    "from urllib.error import URLError, HTTPError, ContentTooShortError\n",
    "import re\n",
    "import csv"
   ]
  },
  {
   "cell_type": "code",
   "execution_count": null,
   "metadata": {},
   "outputs": [],
   "source": [
    "def download(url, user_agent='wswp', charset='utf-8'):\n",
    "  print('Downloading:', url)\n",
    "  request = urllib.request.Request(url)\n",
    "  request.add_header('User-agent', user_agent)\n",
    "  try:\n",
    "    resp = urllib.request.urlopen(request)\n",
    "    cs = resp.headers.get_content_charset()\n",
    "    if not cs:\n",
    "        cs = charset\n",
    "    html = resp.read().decode(cs)\n",
    "  except (URLError, HTTPError, ContentTooShortError) as e:\n",
    "    print('Download error:', e.reason)\n",
    "  return html"
   ]
  },
  {
   "cell_type": "code",
   "execution_count": null,
   "metadata": {},
   "outputs": [],
   "source": [
    "def scrap(html_content):\n",
    "  soup = BeautifulSoup(html_content, 'html5lib')\n",
    "  rows = soup.select('table tbody tr')\n",
    "  tiempo = datetime.now()\n",
    "  field_names = []\n",
    "  field_values = []\n",
    "  for row in rows:\n",
    "    c = row.select('.w2p_fl label');\n",
    "    field_names.append(c[0].string.strip().replace(':', ''));\n",
    "    field_names.append('Date/Time')\n",
    "    v = row.select('.w2p_fw');\n",
    "    if not v[0].string:\n",
    "      if len(re.findall('<img', str(v[0]))) != 0:\n",
    "        img_src = v[0].select('img')[0];\n",
    "        field_values.append(img_src['src'])\n",
    "        continue\n",
    "      if len(re.findall('<div', str(v[0]))) != 0:\n",
    "        a_links = v[0].select('div a');\n",
    "        neighbours = [a_tag.string.strip() for a_tag in a_links]\n",
    "        field_values.append(neighbours);\n",
    "        continue\n",
    "      field_values.append('None')\n",
    "      continue\n",
    "    if v[0].string == ' ':\n",
    "      field_values.append('None')\n",
    "      continue\n",
    "    field_values.append(v[0].string)\n",
    "  field_values.append(tiempo)\n",
    "  \n",
    "  return field_values, field_names\n",
    "    "
   ]
  },
  {
   "cell_type": "markdown",
   "metadata": {},
   "source": [
    "### Exemplo de inserção no CSV"
   ]
  },
  {
   "cell_type": "code",
   "execution_count": null,
   "metadata": {},
   "outputs": [],
   "source": [
    "def insert_headers(fieldnames):\n",
    "  with open('places.csv', 'w', newline='\\n') as places_csv:\n",
    "    writer = csv.DictWriter(places_csv, fieldnames=fieldnames)\n",
    "    writer.writeheader()\n",
    "\n",
    "def insert_data(data_row, fieldnames):\n",
    "  with open('places.csv', 'a', newline='\\n') as places_csv:\n",
    "    writer = csv.DictWriter(places_csv, fieldnames=fieldnames)\n",
    "    \n",
    "    writer.writerow({\n",
    "      f_name: f_value\n",
    "      for f_name, f_value in zip(fieldnames,data_row)\n",
    "    }) # or dict(zip(keys, values))"
   ]
  },
  {
   "cell_type": "code",
   "execution_count": null,
   "metadata": {},
   "outputs": [],
   "source": [
    "with open('places.csv', 'r', newline='') as csvfile:\n",
    "  reader = csv.DictReader(csvfile)\n",
    "  for row in reader:\n",
    "    row['Capital'].replace(row['Capital'], 'Lego')\n",
    "    print(row['Capital'])"
   ]
  },
  {
   "cell_type": "code",
   "execution_count": null,
   "metadata": {},
   "outputs": [],
   "source": [
    "def crawl_sitemap(url):\n",
    "  sitemap = download(url)\n",
    "  links = re.findall('\\d(\\/.*)<\\/loc>', sitemap)\n",
    "  for index, link in enumerate(links):\n",
    "    html = download(f'http://localhost:8000{link}')\n",
    "    f_values, f_names = scrap(html)\n",
    "    if index==0:\n",
    "      insert_headers(f_names)\n",
    "    insert_data(f_values, f_names)\n",
    "    if index==4:\n",
    "      break"
   ]
  },
  {
   "cell_type": "code",
   "execution_count": null,
   "metadata": {},
   "outputs": [],
   "source": [
    "crawl_sitemap('http://localhost:8000/places/static/sitemap.xml');"
   ]
  },
  {
   "cell_type": "code",
   "execution_count": 26,
   "metadata": {},
   "outputs": [
    {
     "name": "stdout",
     "output_type": "stream",
     "text": [
      "Downloading: kjsd\n"
     ]
    },
    {
     "ename": "ValueError",
     "evalue": "unknown url type: 'kjsd'",
     "output_type": "error",
     "traceback": [
      "\u001b[0;31m---------------------------------------------------------------------------\u001b[0m",
      "\u001b[0;31mValueError\u001b[0m                                Traceback (most recent call last)",
      "\u001b[1;32m/home/user/AL1-CPA/AL1.ipynb Cell 10'\u001b[0m in \u001b[0;36m<cell line: 18>\u001b[0;34m()\u001b[0m\n\u001b[1;32m     <a href='vscode-notebook-cell:/home/user/AL1-CPA/AL1.ipynb#ch0000009?line=13'>14</a>\u001b[0m     writer \u001b[39m=\u001b[39m csv\u001b[39m.\u001b[39mwriter(\u001b[39mopen\u001b[39m(csv_path, \u001b[39m'\u001b[39m\u001b[39mw\u001b[39m\u001b[39m'\u001b[39m))\n\u001b[1;32m     <a href='vscode-notebook-cell:/home/user/AL1-CPA/AL1.ipynb#ch0000009?line=14'>15</a>\u001b[0m     writer\u001b[39m.\u001b[39mwriterows(lcsv)\n\u001b[0;32m---> <a href='vscode-notebook-cell:/home/user/AL1-CPA/AL1.ipynb#ch0000009?line=17'>18</a>\u001b[0m page_monitor(\u001b[39m\"\u001b[39;49m\u001b[39mkjsd\u001b[39;49m\u001b[39m\"\u001b[39;49m, \u001b[39m'\u001b[39;49m\u001b[39mplaces.csv\u001b[39;49m\u001b[39m'\u001b[39;49m)\n",
      "\u001b[1;32m/home/user/AL1-CPA/AL1.ipynb Cell 10'\u001b[0m in \u001b[0;36mpage_monitor\u001b[0;34m(url, csv_path)\u001b[0m\n\u001b[1;32m      <a href='vscode-notebook-cell:/home/user/AL1-CPA/AL1.ipynb#ch0000009?line=0'>1</a>\u001b[0m \u001b[39mdef\u001b[39;00m \u001b[39mpage_monitor\u001b[39m(url, csv_path):\n\u001b[0;32m----> <a href='vscode-notebook-cell:/home/user/AL1-CPA/AL1.ipynb#ch0000009?line=1'>2</a>\u001b[0m     sitemap \u001b[39m=\u001b[39m download(url)\n\u001b[1;32m      <a href='vscode-notebook-cell:/home/user/AL1-CPA/AL1.ipynb#ch0000009?line=2'>3</a>\u001b[0m     lcsv \u001b[39m=\u001b[39m \u001b[39mlist\u001b[39m(csv\u001b[39m.\u001b[39mreader(\u001b[39mopen\u001b[39m(csv_path)))\n\u001b[1;32m      <a href='vscode-notebook-cell:/home/user/AL1-CPA/AL1.ipynb#ch0000009?line=3'>4</a>\u001b[0m     links \u001b[39m=\u001b[39m re\u001b[39m.\u001b[39mfindall(\u001b[39m'\u001b[39m\u001b[39m\\\u001b[39m\u001b[39md(\u001b[39m\u001b[39m\\\u001b[39m\u001b[39m/.*)<\u001b[39m\u001b[39m\\\u001b[39m\u001b[39m/loc>\u001b[39m\u001b[39m'\u001b[39m, sitemap)\n",
      "\u001b[1;32m/home/user/AL1-CPA/AL1.ipynb Cell 3'\u001b[0m in \u001b[0;36mdownload\u001b[0;34m(url, user_agent, charset)\u001b[0m\n\u001b[1;32m      <a href='vscode-notebook-cell:/home/user/AL1-CPA/AL1.ipynb#ch0000002?line=0'>1</a>\u001b[0m \u001b[39mdef\u001b[39;00m \u001b[39mdownload\u001b[39m(url, user_agent\u001b[39m=\u001b[39m\u001b[39m'\u001b[39m\u001b[39mwswp\u001b[39m\u001b[39m'\u001b[39m, charset\u001b[39m=\u001b[39m\u001b[39m'\u001b[39m\u001b[39mutf-8\u001b[39m\u001b[39m'\u001b[39m):\n\u001b[1;32m      <a href='vscode-notebook-cell:/home/user/AL1-CPA/AL1.ipynb#ch0000002?line=1'>2</a>\u001b[0m   \u001b[39mprint\u001b[39m(\u001b[39m'\u001b[39m\u001b[39mDownloading:\u001b[39m\u001b[39m'\u001b[39m, url)\n\u001b[0;32m----> <a href='vscode-notebook-cell:/home/user/AL1-CPA/AL1.ipynb#ch0000002?line=2'>3</a>\u001b[0m   request \u001b[39m=\u001b[39m urllib\u001b[39m.\u001b[39;49mrequest\u001b[39m.\u001b[39;49mRequest(url)\n\u001b[1;32m      <a href='vscode-notebook-cell:/home/user/AL1-CPA/AL1.ipynb#ch0000002?line=3'>4</a>\u001b[0m   request\u001b[39m.\u001b[39madd_header(\u001b[39m'\u001b[39m\u001b[39mUser-agent\u001b[39m\u001b[39m'\u001b[39m, user_agent)\n\u001b[1;32m      <a href='vscode-notebook-cell:/home/user/AL1-CPA/AL1.ipynb#ch0000002?line=4'>5</a>\u001b[0m   \u001b[39mtry\u001b[39;00m:\n",
      "File \u001b[0;32m/usr/lib/python3.8/urllib/request.py:328\u001b[0m, in \u001b[0;36mRequest.__init__\u001b[0;34m(self, url, data, headers, origin_req_host, unverifiable, method)\u001b[0m\n\u001b[1;32m    <a href='file:///usr/lib/python3.8/urllib/request.py?line=324'>325</a>\u001b[0m \u001b[39mdef\u001b[39;00m \u001b[39m__init__\u001b[39m(\u001b[39mself\u001b[39m, url, data\u001b[39m=\u001b[39m\u001b[39mNone\u001b[39;00m, headers\u001b[39m=\u001b[39m{},\n\u001b[1;32m    <a href='file:///usr/lib/python3.8/urllib/request.py?line=325'>326</a>\u001b[0m              origin_req_host\u001b[39m=\u001b[39m\u001b[39mNone\u001b[39;00m, unverifiable\u001b[39m=\u001b[39m\u001b[39mFalse\u001b[39;00m,\n\u001b[1;32m    <a href='file:///usr/lib/python3.8/urllib/request.py?line=326'>327</a>\u001b[0m              method\u001b[39m=\u001b[39m\u001b[39mNone\u001b[39;00m):\n\u001b[0;32m--> <a href='file:///usr/lib/python3.8/urllib/request.py?line=327'>328</a>\u001b[0m     \u001b[39mself\u001b[39m\u001b[39m.\u001b[39mfull_url \u001b[39m=\u001b[39m url\n\u001b[1;32m    <a href='file:///usr/lib/python3.8/urllib/request.py?line=328'>329</a>\u001b[0m     \u001b[39mself\u001b[39m\u001b[39m.\u001b[39mheaders \u001b[39m=\u001b[39m {}\n\u001b[1;32m    <a href='file:///usr/lib/python3.8/urllib/request.py?line=329'>330</a>\u001b[0m     \u001b[39mself\u001b[39m\u001b[39m.\u001b[39munredirected_hdrs \u001b[39m=\u001b[39m {}\n",
      "File \u001b[0;32m/usr/lib/python3.8/urllib/request.py:354\u001b[0m, in \u001b[0;36mRequest.full_url\u001b[0;34m(self, url)\u001b[0m\n\u001b[1;32m    <a href='file:///usr/lib/python3.8/urllib/request.py?line=351'>352</a>\u001b[0m \u001b[39mself\u001b[39m\u001b[39m.\u001b[39m_full_url \u001b[39m=\u001b[39m unwrap(url)\n\u001b[1;32m    <a href='file:///usr/lib/python3.8/urllib/request.py?line=352'>353</a>\u001b[0m \u001b[39mself\u001b[39m\u001b[39m.\u001b[39m_full_url, \u001b[39mself\u001b[39m\u001b[39m.\u001b[39mfragment \u001b[39m=\u001b[39m _splittag(\u001b[39mself\u001b[39m\u001b[39m.\u001b[39m_full_url)\n\u001b[0;32m--> <a href='file:///usr/lib/python3.8/urllib/request.py?line=353'>354</a>\u001b[0m \u001b[39mself\u001b[39;49m\u001b[39m.\u001b[39;49m_parse()\n",
      "File \u001b[0;32m/usr/lib/python3.8/urllib/request.py:383\u001b[0m, in \u001b[0;36mRequest._parse\u001b[0;34m(self)\u001b[0m\n\u001b[1;32m    <a href='file:///usr/lib/python3.8/urllib/request.py?line=380'>381</a>\u001b[0m \u001b[39mself\u001b[39m\u001b[39m.\u001b[39mtype, rest \u001b[39m=\u001b[39m _splittype(\u001b[39mself\u001b[39m\u001b[39m.\u001b[39m_full_url)\n\u001b[1;32m    <a href='file:///usr/lib/python3.8/urllib/request.py?line=381'>382</a>\u001b[0m \u001b[39mif\u001b[39;00m \u001b[39mself\u001b[39m\u001b[39m.\u001b[39mtype \u001b[39mis\u001b[39;00m \u001b[39mNone\u001b[39;00m:\n\u001b[0;32m--> <a href='file:///usr/lib/python3.8/urllib/request.py?line=382'>383</a>\u001b[0m     \u001b[39mraise\u001b[39;00m \u001b[39mValueError\u001b[39;00m(\u001b[39m\"\u001b[39m\u001b[39munknown url type: \u001b[39m\u001b[39m%r\u001b[39;00m\u001b[39m\"\u001b[39m \u001b[39m%\u001b[39m \u001b[39mself\u001b[39m\u001b[39m.\u001b[39mfull_url)\n\u001b[1;32m    <a href='file:///usr/lib/python3.8/urllib/request.py?line=383'>384</a>\u001b[0m \u001b[39mself\u001b[39m\u001b[39m.\u001b[39mhost, \u001b[39mself\u001b[39m\u001b[39m.\u001b[39mselector \u001b[39m=\u001b[39m _splithost(rest)\n\u001b[1;32m    <a href='file:///usr/lib/python3.8/urllib/request.py?line=384'>385</a>\u001b[0m \u001b[39mif\u001b[39;00m \u001b[39mself\u001b[39m\u001b[39m.\u001b[39mhost:\n",
      "\u001b[0;31mValueError\u001b[0m: unknown url type: 'kjsd'"
     ]
    }
   ],
   "source": [
    "def page_monitor(url, csv_path):\n",
    "    sitemap = download(url)\n",
    "    lcsv = list(csv.reader(open(csv_path)))\n",
    "    links = re.findall('\\d(\\/.*)<\\/loc>', sitemap)\n",
    "    for index, link in enumerate(links):\n",
    "        html = download(f'http://localhost:8000{link}')\n",
    "        f_values, f_names = scrap(html)\n",
    "        for i, j in range(f_values), range(f_names):\n",
    "            if i!=0 and j!=range(j)-1:\n",
    "                if lcsv[i][j] != f_values[j]:\n",
    "                    lcsv[i][j] = f_values[j]\n",
    "        if index==2:\n",
    "            break\n",
    "    writer = csv.writer(open(csv_path, 'w'))\n",
    "    writer.writerows(lcsv)\n",
    "        \n",
    "    \n",
    "page_monitor(\"kjsd\", 'places.csv')"
   ]
  }
 ],
 "metadata": {
  "interpreter": {
   "hash": "916dbcbb3f70747c44a77c7bcd40155683ae19c65e1c03b4aa3499c5328201f1"
  },
  "kernelspec": {
   "display_name": "Python 3.8.10 64-bit",
   "language": "python",
   "name": "python3"
  },
  "language_info": {
   "codemirror_mode": {
    "name": "ipython",
    "version": 3
   },
   "file_extension": ".py",
   "mimetype": "text/x-python",
   "name": "python",
   "nbconvert_exporter": "python",
   "pygments_lexer": "ipython3",
   "version": "3.8.10"
  },
  "orig_nbformat": 4
 },
 "nbformat": 4,
 "nbformat_minor": 2
}
